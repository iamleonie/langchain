{
 "cells": [
  {
   "cell_type": "markdown",
   "id": "683953b3",
   "metadata": {},
   "source": [
    "# Weaviate\n",
    "\n",
    ">[Weaviate](https://weaviate.io/) is an open-source vector database. It allows you to store data objects and vector embeddings from your favorite ML-models, and scale seamlessly into billions of data objects.\n",
    "\n",
    "This notebook shows how to use the functionality related to the `Weaviate` vector database.\n",
    "\n",
    "`Weaviate` can be deployed in many different ways depending on your requirements. For example, you can either connect to a [Weaviate Cloud Services](https://console.weaviate.cloud) instance or a [local Docker instance](https://weaviate.io/developers/weaviate/installation/docker-compose). \n",
    "See the `Weaviate` [installation instructions](https://weaviate.io/developers/weaviate/installation) for more information."
   ]
  },
  {
   "cell_type": "markdown",
   "id": "5fb59dec",
   "metadata": {},
   "source": [
    "## Prerequisites\n",
    "Install the `weaviate-client` package and set the relevant environment variables."
   ]
  },
  {
   "cell_type": "code",
   "execution_count": 1,
   "id": "e9ab167c-fffc-4d30-b1c1-37cc1b641698",
   "metadata": {
    "tags": []
   },
   "outputs": [
    {
     "name": "stdout",
     "output_type": "stream",
     "text": [
      "Requirement already satisfied: weaviate-client in /opt/homebrew/lib/python3.11/site-packages (3.23.1)\n",
      "Requirement already satisfied: requests<=2.31.0,>=2.28.0 in /opt/homebrew/lib/python3.11/site-packages (from weaviate-client) (2.31.0)\n",
      "Requirement already satisfied: validators<=0.21.0,>=0.18.2 in /opt/homebrew/lib/python3.11/site-packages (from weaviate-client) (0.21.0)\n",
      "Requirement already satisfied: tqdm<5.0.0,>=4.59.0 in /opt/homebrew/lib/python3.11/site-packages (from weaviate-client) (4.66.1)\n",
      "Requirement already satisfied: authlib>=1.1.0 in /opt/homebrew/lib/python3.11/site-packages (from weaviate-client) (1.2.1)\n",
      "Requirement already satisfied: cryptography>=3.2 in /opt/homebrew/lib/python3.11/site-packages (from authlib>=1.1.0->weaviate-client) (41.0.4)\n",
      "Requirement already satisfied: charset-normalizer<4,>=2 in /opt/homebrew/lib/python3.11/site-packages (from requests<=2.31.0,>=2.28.0->weaviate-client) (2.0.12)\n",
      "Requirement already satisfied: idna<4,>=2.5 in /opt/homebrew/lib/python3.11/site-packages (from requests<=2.31.0,>=2.28.0->weaviate-client) (3.4)\n",
      "Requirement already satisfied: urllib3<3,>=1.21.1 in /opt/homebrew/lib/python3.11/site-packages (from requests<=2.31.0,>=2.28.0->weaviate-client) (1.26.17)\n",
      "Requirement already satisfied: certifi>=2017.4.17 in /opt/homebrew/lib/python3.11/site-packages (from requests<=2.31.0,>=2.28.0->weaviate-client) (2023.7.22)\n",
      "Requirement already satisfied: cffi>=1.12 in /opt/homebrew/lib/python3.11/site-packages (from cryptography>=3.2->authlib>=1.1.0->weaviate-client) (1.16.0)\n",
      "Requirement already satisfied: pycparser in /opt/homebrew/lib/python3.11/site-packages (from cffi>=1.12->cryptography>=3.2->authlib>=1.1.0->weaviate-client) (2.21)\n",
      "\n",
      "\u001b[1m[\u001b[0m\u001b[34;49mnotice\u001b[0m\u001b[1;39;49m]\u001b[0m\u001b[39;49m A new release of pip is available: \u001b[0m\u001b[31;49m23.2.1\u001b[0m\u001b[39;49m -> \u001b[0m\u001b[32;49m23.3.1\u001b[0m\n",
      "\u001b[1m[\u001b[0m\u001b[34;49mnotice\u001b[0m\u001b[1;39;49m]\u001b[0m\u001b[39;49m To update, run: \u001b[0m\u001b[32;49mpython3.11 -m pip install --upgrade pip\u001b[0m\n"
     ]
    }
   ],
   "source": [
    "!pip install weaviate-client"
   ]
  },
  {
   "cell_type": "markdown",
   "id": "6b34828d-e627-4d85-aabd-eeb15d9f4b00",
   "metadata": {},
   "source": [
    "We want to use `OpenAIEmbeddings` so we have to get the OpenAI API Key."
   ]
  },
  {
   "cell_type": "code",
   "execution_count": 2,
   "id": "37697b9f-fbb2-430e-b95d-28d6eb83486d",
   "metadata": {},
   "outputs": [
    {
     "name": "stdout",
     "output_type": "stream",
     "text": [
      "OpenAI API Key:········\n"
     ]
    }
   ],
   "source": [
    "import os\n",
    "import getpass\n",
    "\n",
    "os.environ[\"OPENAI_API_KEY\"] = getpass.getpass(\"OpenAI API Key:\")"
   ]
  },
  {
   "cell_type": "code",
   "execution_count": 3,
   "id": "fea2dbae-a609-4458-a05f-f1c8e1f37c6f",
   "metadata": {},
   "outputs": [
    {
     "name": "stdout",
     "output_type": "stream",
     "text": [
      "WEAVIATE_URL:········\n"
     ]
    }
   ],
   "source": [
    "WEAVIATE_URL = getpass.getpass(\"WEAVIATE_URL:\")"
   ]
  },
  {
   "cell_type": "code",
   "execution_count": 4,
   "id": "53b7ce2d-3c09-4d1c-b66b-5769ce6746ae",
   "metadata": {},
   "outputs": [
    {
     "name": "stdout",
     "output_type": "stream",
     "text": [
      "WEAVIATE_API_KEY:········\n"
     ]
    }
   ],
   "source": [
    "os.environ[\"WEAVIATE_API_KEY\"] = getpass.getpass(\"WEAVIATE_API_KEY:\")\n",
    "WEAVIATE_API_KEY = os.environ[\"WEAVIATE_API_KEY\"]"
   ]
  },
  {
   "cell_type": "markdown",
   "id": "b867eb31",
   "metadata": {},
   "source": [
    "## Similarity search\n",
    "Below you can see a minimal example of how to approach a simple similarity search."
   ]
  },
  {
   "cell_type": "code",
   "execution_count": 5,
   "id": "aac9563e",
   "metadata": {
    "tags": []
   },
   "outputs": [],
   "source": [
    "from langchain.embeddings.openai import OpenAIEmbeddings\n",
    "from langchain.text_splitter import CharacterTextSplitter\n",
    "from langchain.vectorstores import Weaviate\n",
    "from langchain.document_loaders import TextLoader"
   ]
  },
  {
   "cell_type": "code",
   "execution_count": 6,
   "id": "a3c3999a",
   "metadata": {},
   "outputs": [],
   "source": [
    "from langchain.document_loaders import TextLoader\n",
    "\n",
    "loader = TextLoader(\"../../modules/state_of_the_union.txt\")\n",
    "documents = loader.load()\n",
    "text_splitter = CharacterTextSplitter(chunk_size=1000, chunk_overlap=0)\n",
    "docs = text_splitter.split_documents(documents)\n",
    "\n",
    "embeddings = OpenAIEmbeddings()"
   ]
  },
  {
   "cell_type": "code",
   "execution_count": 7,
   "id": "21e9e528",
   "metadata": {},
   "outputs": [],
   "source": [
    "db = Weaviate.from_documents(\n",
    "    docs, \n",
    "    embeddings, \n",
    "    weaviate_url=WEAVIATE_URL, \n",
    "    by_text=False\n",
    ")"
   ]
  },
  {
   "cell_type": "code",
   "execution_count": 8,
   "id": "b4170176",
   "metadata": {},
   "outputs": [],
   "source": [
    "query = \"What did the president say about Ketanji Brown Jackson\"\n",
    "docs = db.similarity_search(query)"
   ]
  },
  {
   "cell_type": "code",
   "execution_count": 9,
   "id": "ecf3b890",
   "metadata": {
    "scrolled": true
   },
   "outputs": [
    {
     "name": "stdout",
     "output_type": "stream",
     "text": [
      "Tonight. I call on the Senate to: Pass the Freedom to Vote Act. Pass the John Lewis Voting Rights Act. And while you’re at it, pass the Disclose Act so Americans can know who is funding our elections. \n",
      "\n",
      "Tonight, I’d like to honor someone who has dedicated his life to serve this country: Justice Stephen Breyer—an Army veteran, Constitutional scholar, and retiring Justice of the United States Supreme Court. Justice Breyer, thank you for your service. \n",
      "\n",
      "One of the most serious constitutional responsibilities a President has is nominating someone to serve on the United States Supreme Court. \n",
      "\n",
      "And I did that 4 days ago, when I nominated Circuit Court of Appeals Judge Ketanji Brown Jackson. One of our nation’s top legal minds, who will continue Justice Breyer’s legacy of excellence.\n"
     ]
    }
   ],
   "source": [
    "print(docs[0].page_content)"
   ]
  },
  {
   "cell_type": "markdown",
   "id": "7826d0ea",
   "metadata": {},
   "source": [
    "## Authentication"
   ]
  },
  {
   "cell_type": "markdown",
   "id": "13989a7c",
   "metadata": {},
   "source": [
    "Weaviate instances have authentication enabled by default. You can use either a username/password combination or API key.  "
   ]
  },
  {
   "cell_type": "code",
   "execution_count": 10,
   "id": "f6604f1d",
   "metadata": {},
   "outputs": [],
   "source": [
    "import weaviate\n",
    "\n",
    "client = weaviate.Client(\n",
    "    url=WEAVIATE_URL, \n",
    "    auth_client_secret=weaviate.AuthApiKey(WEAVIATE_API_KEY)\n",
    ")\n",
    "\n",
    "# client = weaviate.Client(\n",
    "#     url=WEAVIATE_URL,\n",
    "#     auth_client_secret=weaviate.AuthClientPassword(\n",
    "#         username = \"WCS_USERNAME\",  # Replace w/ your WCS username\n",
    "#         password = \"WCS_PASSWORD\",  # Replace w/ your WCS password\n",
    "#     ),\n",
    "# )\n",
    "\n",
    "vectorstore = Weaviate.from_documents(\n",
    "    documents, \n",
    "    embeddings, \n",
    "    client=client, \n",
    "    by_text=False\n",
    ")"
   ]
  },
  {
   "cell_type": "markdown",
   "id": "a15863ee",
   "metadata": {},
   "source": [
    "## Similarity search with score"
   ]
  },
  {
   "cell_type": "code",
   "execution_count": 11,
   "id": "102105a1",
   "metadata": {},
   "outputs": [
    {
     "data": {
      "text/plain": [
       "(Document(page_content='Tonight. I call on the Senate to: Pass the Freedom to Vote Act. Pass the John Lewis Voting Rights Act. And while you’re at it, pass the Disclose Act so Americans can know who is funding our elections. \\n\\nTonight, I’d like to honor someone who has dedicated his life to serve this country: Justice Stephen Breyer—an Army veteran, Constitutional scholar, and retiring Justice of the United States Supreme Court. Justice Breyer, thank you for your service. \\n\\nOne of the most serious constitutional responsibilities a President has is nominating someone to serve on the United States Supreme Court. \\n\\nAnd I did that 4 days ago, when I nominated Circuit Court of Appeals Judge Ketanji Brown Jackson. One of our nation’s top legal minds, who will continue Justice Breyer’s legacy of excellence.', metadata={'_additional': {'vector': [-0.015104497, -0.011514405, -0.018420435, 0.0026729866, 0.008394288, 0.014190655, 0.008178882, -0.0009521903, -0.022167187, -0.005469995, 0.018772917, 0.00205288, -0.004412549, -0.021736376, -0.013629295, -0.0042460994, 0.02578339, 0.018472655, 0.031801686, -0.03141004, -0.010561397, -0.029895676, 0.011866886, 0.0008453035, 0.014725905, -0.020874752, 0.030365651, -0.032193333, 0.013433472, -0.034177676, 0.002890024, -0.0027839532, -0.024438737, -0.0063577266, -0.019934801, 0.017467428, -0.00013595434, 0.008329013, 0.034073237, -0.027780786, 0.031697247, -0.001164332, 0.0052839625, -0.0026436131, -0.016527478, 0.0067102085, -0.005055502, -0.035404835, 0.0029552986, 0.02953014, 0.03271553, 0.015665855, -0.01996091, -0.024739, -0.021814706, -0.0064197374, -0.010776803, -0.008433452, 0.0031870226, -0.01022197, 0.008342068, 0.014934783, -0.0063871, 0.011873414, 0.0177938, -0.006866867, -0.015430869, 0.016409984, -0.016057502, 0.017180221, 0.035639822, 0.0029536667, 0.021644993, -0.00683423, 0.040992323, -0.010718056, -0.033263832, 0.011188033, -0.01466063, -0.021592773, 0.002633822, -0.01629249, -0.017663252, -0.0041286056, 0.010815969, 0.005368819, 6.272462e-05, 0.008322486, -0.010332937, -0.005244798, 0.002224225, 0.011788557, 0.0050750845, 0.021449167, -0.010763749, 0.020691983, -0.006671044, 0.029843457, 0.028198542, -0.047336996, 0.024360407, -0.0011316949, -0.025979212, -0.012415191, -0.03161892, -0.009497425, -0.008857735, 0.005231743, 0.0045626806, 0.0023123454, -0.0059432345, 0.007591413, 0.015156716, -0.007832928, -0.0122193685, -0.028694628, -0.03365548, -0.01573113, 0.008812044, -0.02950403, 0.030104553, -0.0032963573, 0.013296396, -0.013550966, 0.015783349, 0.0075522484, -0.037833042, -0.0155091975, 0.010541815, -0.01473896, 0.00018460417, 0.011971326, 0.0035770372, -0.021383893, 0.0032914618, 0.0025310148, -0.0031494899, 0.05015685, 0.0032327147, -0.01116845, 0.0048857885, 0.0129569685, -0.018707642, -0.029921785, 0.0047226027, 0.00678201, 0.030000115, 0.0145823015, 0.0055711702, -0.0016636814, -0.0057539386, 0.012565322, 0.014843399, -0.007382535, -0.020104514, -0.0054895775, -0.008524836, -0.00830943, 0.027676346, 0.0018146284, 0.0020186107, -0.033316053, 0.0034497522, -0.0059497617, 0.014556192, 0.019804252, 0.00022784846, 0.0033616317, -0.019086234, 0.0120104905, 0.0054145115, 0.02054838, -0.038381346, 0.028537968, -0.013205011, 0.00060215633, 0.014934783, -0.023081029, -0.024477901, 0.00031454102, 0.01899485, 0.012859058, 0.027937444, 0.027519688, -0.015000057, 0.018577093, 0.034412663, -0.017702417, -0.015691966, -0.01226506, 0.02509148, 0.008178882, -0.0027268382, -0.018642368, -0.6354071, -0.030130664, 0.017754637, -0.010476541, 0.012676289, -0.0010419426, 0.004706284, 0.020861698, -0.0068864496, 0.013942612, -0.020000076, 0.030104553, 0.0014050315, -0.015365594, -0.008805516, -0.017741581, 0.0084203975, -0.016031392, 0.022650218, -0.022402175, -0.03255887, 0.0052121608, -0.02067893, -0.013812063, 0.011488295, 0.0012752985, -0.005000019, 0.014086216, -0.013113627, 0.013211539, -0.033864357, 0.030757299, -0.011625371, 0.0037271683, 0.049556326, 0.01669719, -0.01990869, 0.01086166, -0.0025930256, 0.035953138, -0.021893036, -0.008929538, 0.02516981, 0.008433452, 8.200096e-05, 0.009033977, 0.0075587756, -0.012989606, -0.0013862652, 0.00948437, -0.02420375, -0.0034007963, 0.006145585, 0.018668478, -0.010946518, -0.008909956, -0.0076436326, -0.016671082, 0.018355161, 0.015874734, -0.00041245262, 0.013550966, -0.006684099, -0.017428264, -0.0144125875, 0.01642304, -0.008759825, 0.0043766485, 0.037519723, -0.022219406, 0.009810742, 0.022506613, 3.7711263e-05, -0.0060085086, 0.020796424, -0.026866945, 0.011762448, -0.007441282, 0.00038634287, 0.011762448, 0.017049672, -0.01909929, 0.0054569403, 0.004647537, 0.01800268, 0.0028198543, -0.015117551, -0.015548362, 0.0026697228, 0.021044467, 0.021644993, 0.0038772994, 0.018785972, -0.026893053, 0.0050783483, 0.016018337, 0.00979116, -0.0068407576, 0.02420375, -0.015261156, -0.012160622, 0.0075848857, 0.010587507, -0.010992209, -0.00286881, 0.020182844, -0.018120173, -0.0030613695, 0.023329072, -0.031671137, -0.01832905, -0.03133171, -0.031044506, 0.0017003982, 0.0063055074, -0.026997494, 0.009171053, 0.022154132, -0.027989663, 0.0058159493, 0.013524856, 0.016566642, 0.010169751, -0.02522203, -0.0045496253, 0.007989586, 0.014869508, -0.009627974, -0.036710322, 0.0007278096, -0.010091422, -0.009073141, 0.015535308, 0.015195881, -0.0012459251, -0.00118881, 0.014973948, -0.016253324, -0.002950403, -0.011292472, 0.0045267795, 0.0036880036, -0.0033877415, 0.011879941, -0.03663199, 0.0072585135, -0.015339484, -0.020261172, -0.03360326, 0.0018978532, -0.011331636, -0.0019990285, -0.013916503, 0.019791197, 0.0023221367, -0.0075000287, -0.021122795, 0.0027480524, -0.009647556, -0.023877377, 0.024830382, 0.015078387, -0.01958232, -0.013511801, 0.011207615, -0.0054145115, 0.040809553, 0.0005609519, -0.02445179, -0.04127953, 0.021749431, -0.0042722095, -0.0050718207, 0.015848624, 0.016031392, 0.00013544438, -0.01744132, 0.012245478, 0.02506537, 0.029425701, -0.004412549, -0.015992228, -0.0184596, -0.010411266, 0.020744205, 0.01624027, -0.020757258, 0.029712908, -0.011383856, 0.0030156774, -0.014908673, 0.00573762, -0.0031543856, 0.004125342, 0.013315978, 0.024060145, -0.00447456, -0.010352519, 0.009216745, 0.008772879, 0.04211504, 0.010665837, 0.042532798, -0.032167222, -0.013446527, -0.02570506, 0.008237629, -0.008772879, 0.0063968915, 0.018159337, -0.014268984, -0.014503972, -0.01771547, -0.029895676, 0.014608411, 0.013916503, -0.013139737, 0.0040274304, 0.004660592, -0.026997494, 0.014621466, 0.005313336, 0.015600582, -0.012141039, 0.007911257, 0.038381346, -0.015665855, 0.0002515104, 0.010763749, -0.008159299, -0.00979116, 0.019047068, -0.0026631954, 0.030522311, -0.0011504613, -0.042715564, -0.0073564253, -0.013120155, 0.03141004, 0.016188052, 0.006099893, 0.01789824, -0.0063022436, -0.0054895775, 0.018929575, -0.0032620882, 0.029634578, 0.006533968, 0.001281826, -0.00044264205, -0.0071606017, -0.0026289264, -0.004206935, 0.007284623, 0.034073237, -0.008870791, -0.008479144, 0.03041787, -0.00023050023, 0.025365632, 0.040548455, 0.03872077, 0.0012296065, -0.024229858, 0.0036031469, -0.0098955985, 0.0084595615, -0.00736948, 0.006077047, -0.016684135, -0.008342068, -0.0155091975, 0.020744205, 0.0008326566, 0.031775575, 0.010078367, -0.009073141, 0.026449189, -0.014060106, -0.0073629525, 0.009458261, -0.03480431, 0.0065731322, 0.013825119, -0.011527459, -0.012003963, -0.0043831756, -0.01624027, -0.014347314, 0.026592791, -0.012611015, -0.0056984555, -0.0010076736, 0.007976531, 0.003534609, -0.017349934, 0.03469987, -0.011677591, 0.008981757, 0.0007918601, 0.020300338, 0.012996133, -0.0152481, -0.011077066, 0.032376103, 0.0025701795, -0.0032816706, -0.00078410876, 0.031175055, -0.0262142, 0.0064654294, -0.017963514, -0.021710267, -0.012891695, 0.008753297, -0.0030956385, -0.014399533, -0.02044394, 0.009980455, -0.0061064204, -0.013381252, -0.03151448, -0.019229837, 0.0010688682, 0.15822513, 0.033759918, 0.009131888, 0.014712851, -0.019334277, 0.007859037, -0.026148926, -0.016070556, 0.013981777, -0.0114817675, 0.0078264, 0.006821175, -0.014282039, 0.024804274, 0.015326429, -0.0019631274, 0.018785972, -0.004415813, -0.0051664687, -0.03566593, -0.016201105, -0.0030760563, 0.009144943, 0.03161892, 3.2669072e-06, -0.02509148, 0.020326447, 0.015104497, 0.023198523, -0.01198438, -0.011259834, -0.004148188, 0.003324099, -0.0024282075, -0.021175014, 0.019712867, -0.0075000287, -0.0028410684, 0.0074086445, -0.00031066535, 0.01001962, -0.00079104415, -0.0025587564, -0.009379931, 0.03449099, -0.035013188, -0.0026191352, 0.013048353, 0.00023947546, 0.0067428458, 0.025483126, -0.0006963963, -0.025339523, -0.004366857, -0.0070953276, 0.015874734, -0.013028771, 0.007121437, -0.000921185, 0.007728489, -0.019125398, -0.002331928, -0.011161923, -0.011788557, 0.0015323166, 0.0010288877, -0.028198542, -0.020691983, -0.002271549, -0.003994793, 0.014477862, -0.012643652, -0.03762416, 0.0127676735, 0.0088969, -0.0017999416, 0.03707586, -0.0026762504, 0.011266362, -0.011527459, -0.0059073335, -0.0251437, 0.0067232633, -0.011064012, -0.0007253618, 5.3341424e-05, 0.017349934, -0.008074443, -0.01881208, 0.024334297, 0.0029275569, -0.0014882564, 0.01093999, -0.025430907, -0.02310714, -0.0019745505, 0.0070169983, 0.016396929, -0.019438716, -0.0034040601, 0.0013838174, -0.011821195, -0.0035966195, -0.0050848755, -0.012395609, 0.008792462, 0.009569227, 0.02731081, -0.011044429, -0.0063577266, -0.0012622437, -0.032167222, 0.01119456, 0.010039202, -0.007473919, 0.02110974, -0.0056951917, 0.006250024, -0.010848606, -0.0042297808, 0.01771547, -0.024673725, 0.04122731, -0.0002982224, -0.0065111215, 0.012983079, -0.005541797, 0.0059399707, 0.020874752, 0.014556192, 0.032637198, 0.026814725, -0.015574472, -0.036501445, -0.021096686, -0.0054504126, -0.013009189, 0.0272847, 0.013224594, -0.007578358, -0.015091442, -0.020143678, 0.0062793978, -0.03258498, 0.02530036, -0.022650218, -0.0030956385, 0.021305563, -0.023159359, 0.005114249, -0.022402175, 0.011364274, -0.009771577, -0.0005499368, 0.0019663912, 0.0026370857, 0.009582282, -0.0030776882, 0.02121418, 0.019177618, -0.00023498785, -0.009595336, 0.008798989, -0.0038642446, 0.023342127, -0.0021475276, 0.005277435, 0.01364235, 0.0003812433, 0.023825157, 0.013185429, -0.0029993588, -0.027676346, 0.0048890524, 0.008472617, 0.011436075, -0.013459582, -0.011370801, -0.014843399, -0.035352614, -0.02557451, 0.008400815, -0.0058551137, -0.008792462, -0.00734337, -0.0064621656, 0.03796359, 0.003916464, 0.022715492, -0.0022519666, 0.03148837, -0.010731111, 0.013655405, -0.0062043318, -0.00021071393, -0.018107118, -0.026514463, 0.001795046, 0.021984419, 0.0028737057, 0.0049575907, -0.011899523, -0.00892301, -0.012167148, 0.020169789, 0.008237629, -0.0069647785, -0.003815289, 0.019778142, -0.025182864, -0.0006861972, -0.044908788, -0.008955647, -0.016553586, 0.013407363, -0.0017052938, 0.010228498, 0.0065698684, -0.00018684797, -0.03806803, -0.038746882, -0.03164503, -0.0068407576, 0.009758523, 0.01420371, 0.02287215, -0.007023526, -0.029765127, 0.034960967, 0.011971326, -0.0036749488, 0.0008244973, 0.009295074, -0.026057541, -0.012565322, 0.014425643, 0.020626709, -0.011892996, -0.037650272, 0.022141078, 0.015156716, -0.033733808, 0.00020459446, 0.0025816024, -0.0015576105, 0.02185387, -0.008433452, -0.0037108497, -0.013577076, -0.009673666, -0.0017052938, -0.024060145, 0.001153725, 0.0035378726, 0.027911335, -0.03885132, 0.00237762, -0.010456959, 0.001152909, 0.0020577754, -0.02073115, 0.026357803, -0.020718094, 0.005887751, -0.014164546, 0.009986983, -0.022715492, -0.017062727, 0.0041645067, 0.022297736, -0.015796404, -0.014007887, -0.0002700728, 0.015417813, -0.0027839532, -0.0048335693, -0.012127984, -0.0015551626, 0.013733734, -0.009634501, 0.01285253, -0.012989606, -0.027467469, -0.010594035, 0.0051762597, -0.009856434, -0.008681495, -0.004908635, 0.036057577, 0.0035444, -0.00095300627, -0.016070556, -0.009040504, 0.012323807, 0.016449148, -0.013459582, 0.032349993, 0.032819968, -0.021644993, 0.0037271683, -0.04480435, 0.015639747, -0.033263832, -0.016096666, -0.009464787, -0.0313056, 0.0012181834, -0.011161923, -0.0188643, -0.014830344, 0.014908673, 0.013185429, 0.006367518, -0.008276793, -0.00892301, -0.0039784745, 0.022611054, -0.0045300433, -0.031175055, 0.026122816, -0.018237667, 0.00072944147, -0.0020447206, -0.02501315, -0.010796387, 0.013205011, 0.014047052, -0.0071867118, -0.022689382, -0.0026501406, -0.011442603, 0.026005322, -0.006031355, -0.020235064, -0.010117532, 0.01535254, -0.012611015, 0.013903447, 0.0049445354, -0.0018048373, 0.023172414, 0.0021181542, 0.02939959, 0.013746789, -0.015913898, -0.0056135985, -0.0223369, -0.021697212, -0.0084399795, -0.020496162, -0.022624109, 0.01144913, 0.0060117724, 0.0123890815, -0.020261172, -0.001304672, -0.027075822, -0.017167166, -0.0010549974, -0.0019876054, 0.016553586, 0.0010558134, 0.02947792, 0.029112384, -0.030600639, 0.025404798, 0.001422982, -0.025117591, 0.020013131, -0.026710285, 0.018629313, 0.033916578, -0.014007887, 0.0049804365, 0.03339438, 0.00526438, 0.017506594, 0.014334259, -0.0044256044, -0.0095365895, 0.012656706, 0.007859037, -0.010594035, 0.018028788, 0.0039229915, -0.04950411, 0.0022128022, 0.005313336, -0.0151306065, -0.032115005, -0.010267663, 0.0076436326, 0.0057996307, -0.008851209, -0.01415149, 0.010678891, 0.009641029, -0.028172432, 0.013446527, 0.02567895, -0.0013250703, 0.024190694, 0.012806837, -0.032349993, 0.0029455074, 0.013981777, 0.010039202, 0.0053263907, -0.017245496, -0.010332937, 0.034438774, -0.010293772, -0.006099893, -0.01853793, 0.0046181637, -0.011644954, -0.009105778, -0.020979192, 0.022597998, 0.0029128701, -0.028668517, -0.0100848945, -0.0007914521, -0.029216822, 0.004347275, -0.011990908, 0.0019484409, -0.023420455, 0.021945255, 0.012584905, -0.008028751, -0.010574453, -0.0033779503, 0.011227197, 0.0005997085, 0.015770294, 0.23749438, -0.001969655, 0.00587796, 0.013590131, -0.030156774, 0.018355161, 0.009282019, 0.0041318694, -0.014908673, -0.0062989797, -0.016592752, 0.0038316073, -0.01889041, 0.0037728604, 0.02939959, -0.014347314, -0.049817424, -0.019360386, -0.034856528, -0.014791179, 0.009477843, 0.016148886, 0.0047846134, -0.011174978, 0.011716755, 0.01575724, 0.03459543, 0.014386478, 0.011018319, -0.00841387, -0.03791137, -0.0023955705, -0.013368198, -0.0031266438, -0.01661886, -0.013916503, 0.0016220689, -0.0018015734, 0.009843379, 0.008453035, -0.007956949, 0.032819968, -0.0036227293, -0.0255484, 0.016919123, 0.053942766, -0.0060085086, -0.0117102275, -0.007389062, 0.013759844, -0.059321377, -0.008727187, 0.021331673, 0.034203783, 0.015443924, -0.02006535, 0.03148837, 0.012630597, -0.010378629, 0.027571907, -0.031671137, 0.013968722, -0.007741544, 0.03817247, 0.0010908984, 0.03887743, -0.017963514, 0.013537911, 0.04595318, -0.018838191, -0.031827796, 0.010600562, -0.0047389213, -0.0120300725, -0.028459638, -0.018707642, 0.029869566, 0.022297736, 0.014282039, 0.00014411363, -0.006181486, -0.0068995045, 0.016984398, -0.012859058, -0.0025391742, -0.032219443, 0.0054634674, -0.0056135985, -0.009392986, 0.0060085086, 0.013955668, -0.011285944, -0.0011341426, -0.013981777, 0.00010902865, -0.0049804365, 0.0024396307, 0.023655444, -0.021201124, 0.02455623, -0.025587566, 0.040339578, 0.016644971, -0.003926255, -0.011357746, 0.0028639145, -0.015535308, 0.026462242, 0.0067428458, -0.035613712, -0.010626672, -0.014725905, -0.009751995, -0.013942612, -0.014673686, 0.015953062, -0.024477901, -0.0017542496, 0.024308188, 0.001830947, -0.024321243, -0.02932126, -0.0032963573, 0.0005185235, 0.0013177269, -0.021018356, -0.01198438, 0.008296376, -0.012539213, -0.021462223, 0.003661894, 0.0064099464, 0.00019490528, -0.0036292567, -0.021527497, -0.003971947, -0.0009456629, 0.0072454587, -0.023407402, 0.004964118, -0.008779407, -0.013100573, 0.0025946572, -0.0007987955, -0.0028051676, -0.017049672, 0.027963554, -0.026462242, -0.011684118, 0.013981777, -0.005633181, -0.0061880136, -0.0047258665, -0.012532685, 0.022780767, -0.022637162, -0.031175055, -0.022584943, -0.017558813, 0.020861698, -0.03490875, 0.0028475958, 0.02557451, -0.006214123, -0.0098955985, 0.0021491596, -0.16407372, 0.009751995, 0.010391684, 0.0032115006, 0.01116845, -0.012682816, 0.0015372122, -0.021749431, -0.007545721, -0.0019451772, 0.017467428, 0.017454375, -0.035013188, -0.009053559, -0.0018440018, -0.0025669157, -0.02244134, 0.0052611167, 0.004020903, 0.0035444, 0.029843457, -0.011919106, 0.002051248, -0.042793896, 0.021684157, -0.010267663, -0.0053427094, 0.016723301, 0.0015829043, -0.007251986, -0.0024657403, -0.001339757, 0.031671137, 0.0018440018, 0.008890373, -0.007101855, -0.020287283, -0.012513103, -0.0042265174, 0.031148944, 0.043054994, 0.025822554, 0.014399533, -0.010345992, -0.0036357841, -0.0062434967, -0.006677571, 0.011612317, -0.016762465, -0.012911277, -0.0031641766, -0.01642304, -0.011050956, 0.007251986, 0.017741581, -0.0028590187, -0.014242874, 0.013048353, -0.010052257, 0.004964118, -0.0043309564, -0.00872066, 0.003916464, 0.0048531513, -0.017806856, 0.025078425, -0.022062749, 0.013681515, -0.018681532, 0.008883846, -0.008028751, -0.011860359, -0.011005265, -0.014725905, -0.0050848755, 0.023746828, -0.029007943, 0.01060709, -0.0073955897, 0.017428264, -0.012127984, 0.04242836, -0.0040698587, 0.0014091112, -0.0092298, -0.010672364, -0.0045822626, 0.010195861, -0.002470636, -0.013655405, 0.018577093, -0.04026125, -0.00036798444, 0.0029601941, 0.0033192034, 0.0107833315, 0.0062337057, 0.0003065857, 0.004647537, -0.007591413, -0.00026028167, -0.017101891, -0.003381214, 0.03832913, -0.0011055851, 0.024543175, 0.012526158, 0.03268942, -0.0033518407, 0.005691928, -0.019699814, -0.00028577948, 0.027571907, 0.03054842, 0.020404777, 0.0018521611, -0.006677571, -0.0015127343, 0.013407363, -0.007336843, 0.05874696, -0.001411559, -0.0044223405, -0.0037565418, 0.015835568, -0.0017673045, -0.11968714, -0.0009644293, 0.0030173094, 0.012428246, -0.0070626903, 0.018590149, 0.015013113, 0.03159281, -0.015496143, 0.047702532, -0.00818541, -0.026005322, 0.0055679064, -0.0049706455, 0.0051893145, 0.002633822, -0.009255909, -0.016658027, -0.0034791257, 0.00410576, -0.018198501, 0.008759825, 0.005013074, -0.009275492, -0.01784602, -0.018785972, -0.010345992, 0.018746806, 0.0075522484, 0.007193239, -0.012904749, -0.0028786012, -0.012630597, -0.0076501598, -0.013825119, -0.00035717338, -0.023250742, -0.02009146, 0.025509236, -0.009928236, -0.0048400965, -0.019269003, 0.015169771, -0.0057931035, -0.003883827, -0.0004928217, 0.008596638, 0.026096705, 0.022271626, -0.020861698, -0.015796404, 0.029060164, -0.00016573578, -0.028799066, 0.018081008, -0.0016938708, -0.02302881, -0.009060087, -0.033211615, 0.011207615, -0.0018701116, -0.0071867118, 0.0017428265, 0.0067950655, 0.0043309564, 0.005532006, -0.014073161, -0.02110974, -0.006657989, -0.038303018, 0.01305488, 0.014282039, -0.017832965, 0.024843438, -0.008772879, -0.0075261383, -0.027023602, -0.0019484409, 0.013015715, -0.017806856, -0.013211539, -0.0014947838, 0.011697173, -0.032245554, 0.023616279, 0.011253307, -0.015326429, 0.02557451, 0.004823778, -0.0090078665, 0.021436112, 0.03785915, 0.008276793, -0.007983059, -0.028198542, 0.011116231, -0.0052839625, -0.016096666, 0.009928236, 0.004892316, -0.030809518, 0.0026827778, -0.07268957, 0.024321243, -0.02073115, -0.015417813, -0.0034791257, 0.02741525, 0.001492336, -0.013825119, -0.024060145, 0.026305584, -0.008772879, 0.019203728, 0.0021524234, -0.00920369, -0.015548362, -0.003218028, 0.048746925, -0.004670383, 0.022558834, 0.024164584, 0.00067844585, 0.024973987, -6.848712e-05, 0.0011610683, -0.01843349, 0.0008016513, -0.011103176, 0.007976531, -0.01843349, -0.022754656, 0.012715453, -0.002271549, 0.011005265, 0.022245517, 0.005153414, -0.03245443, 0.013616241, 0.005146886, 0.02009146, -0.015117551, -0.0054667313, -0.036501445, 0.0021932197, 0.021436112, -0.013263758, 0.010476541, 0.007336843, -0.00079675566, -0.0019190675, -0.004438659, -0.032976627, 0.025561456, -0.0025489652, 0.014634521, -0.008485672, -0.020026185, 0.0039132, -0.0034921805, 0.0001584944, -0.024921767, 0.027702456, 0.002480427, 0.005159941, 0.017767692, 0.01473896, 0.015143661, -0.005832268, 0.012584905, 0.02172332, -0.026501408, -0.01736299, -0.0025962892, 0.0069060316, 0.026840834, 0.01535254, -0.011390383, 0.019034015, -0.00333389, -0.010483068, 0.020796424, 0.028668517, -0.018446544, 0.0028247498, 0.011011791, -0.003962156, 0.021018356, 0.00841387, 0.0017379309, -0.0009040505, 0.0060672555, -0.016227216, -0.0008493832, -0.00076901406, 0.018825136, 0.021840815, 0.004203671, -0.015770294, 0.011834249, -0.0021573189, -0.013407363, -0.0026990967, 0.003707586, 0.020391721, -0.00034942204, 0.004154715, 0.0251437, -0.036240347, -0.01950399, -0.024034034, 0.014817289, 0.015261156, 0.01955621, 0.0080809705, 0.02522203, -0.031958345, 0.017754637, 0.002005556, -0.008426925, -0.00599219, 0.038564116, 0.022702437, -0.006520913, 0.021449167, 0.014791179, 0.025339523, -0.0074608643, 0.00279864, -0.001235318, -0.01527421, 0.014099271, 0.007147547, -0.011514405, -0.04357719, 0.01613583, -0.008283321, -0.012976551, -0.014321203, 0.017454375, -0.022780767, 0.039504066, 0.0034040601, -0.020809477, 0.008759825, -0.0019321223, 0.023838213, 0.008981757, 0.009379931, 0.010998737, 0.014020941, 0.03569204, -0.015261156, -0.003906673, -0.01229117, -0.036736432, 0.0013601554, 0.0003881787, 0.0078068185, -0.0040274304, 0.008544419, 0.0037859152, -0.014804235, 0.022088857, 0.005114249, -0.011096649, 0.0052023693, 0.030809518, -0.04148841, 0.009164525, -0.018903466, 0.019843416, 0.0086292755, -0.016396929, 0.0045757354, 0.032950517, -0.008400815, 0.0012630596, 0.019086234, 0.015874734, 0.021318618, 0.0006429528, -0.014934783, -0.02567895, -0.033107173, 0.0037467508, 0.029060164, -0.016148886, 0.0049216896, -0.0177938]}, 'source': '../../modules/state_of_the_union.txt'}),\n",
       " 0.8153536937088757)"
      ]
     },
     "execution_count": 11,
     "metadata": {},
     "output_type": "execute_result"
    }
   ],
   "source": [
    "docs = db.similarity_search_with_score(query, by_text=False)\n",
    "docs[0]"
   ]
  },
  {
   "cell_type": "markdown",
   "id": "64e03db8",
   "metadata": {},
   "source": [
    "Sometimes we might want to perform the search, but also obtain a relevancy score to know how good is a particular result. \n",
    "The returned distance score is cosine distance. Therefore, a lower score is better."
   ]
  },
  {
   "cell_type": "markdown",
   "id": "8fc3487b",
   "metadata": {},
   "source": [
    "## Persistence"
   ]
  },
  {
   "cell_type": "markdown",
   "id": "281c0fcc",
   "metadata": {},
   "source": [
    "Anything uploaded to Weaviate is automatically persistent into the database. You do not need to call any specific method or pass any parameters for this to happen."
   ]
  },
  {
   "cell_type": "markdown",
   "id": "503e2e75",
   "metadata": {},
   "source": [
    "## Retriever options\n",
    "\n",
    "This section goes over different options for how to use Weaviate as a retriever.\n",
    "\n",
    "### Maximal marginal relevance search (MMR)\n",
    "\n",
    "In addition to using similarity search in the retriever object, you can also use `mmr`."
   ]
  },
  {
   "cell_type": "code",
   "execution_count": 12,
   "id": "8b7df7ae",
   "metadata": {},
   "outputs": [
    {
     "data": {
      "text/plain": [
       "Document(page_content='Tonight. I call on the Senate to: Pass the Freedom to Vote Act. Pass the John Lewis Voting Rights Act. And while you’re at it, pass the Disclose Act so Americans can know who is funding our elections. \\n\\nTonight, I’d like to honor someone who has dedicated his life to serve this country: Justice Stephen Breyer—an Army veteran, Constitutional scholar, and retiring Justice of the United States Supreme Court. Justice Breyer, thank you for your service. \\n\\nOne of the most serious constitutional responsibilities a President has is nominating someone to serve on the United States Supreme Court. \\n\\nAnd I did that 4 days ago, when I nominated Circuit Court of Appeals Judge Ketanji Brown Jackson. One of our nation’s top legal minds, who will continue Justice Breyer’s legacy of excellence.', metadata={'source': '../../modules/state_of_the_union.txt'})"
      ]
     },
     "execution_count": 12,
     "metadata": {},
     "output_type": "execute_result"
    }
   ],
   "source": [
    "retriever = db.as_retriever(search_type=\"mmr\")\n",
    "retriever.get_relevant_documents(query)[0]"
   ]
  },
  {
   "cell_type": "markdown",
   "id": "4b14a3a5",
   "metadata": {},
   "source": [
    "### Hybrid search\n",
    "Weaviate also offers hybrid search. See [`WeaviateHybridSearchRetriever`](https://python.langchain.com/docs/integrations/retrievers/weaviate-hybrid) for reference."
   ]
  },
  {
   "cell_type": "markdown",
   "id": "508016e8",
   "metadata": {},
   "source": [
    "## Use cases\n",
    "As the following example shows, LLMs don't have access to knowledge outside of their training data. Thus, vector stores come in handy to provide LLMs with additional context."
   ]
  },
  {
   "cell_type": "code",
   "execution_count": 13,
   "id": "5299b13b",
   "metadata": {},
   "outputs": [
    {
     "data": {
      "text/plain": [
       "\"As an AI language model, I don't have real-time information or the ability to browse the internet. Therefore, I cannot provide you with the most recent statements made by the president about Justice Breyer. However, it's worth noting that the president's opinions on Justice Breyer may vary depending on the specific context and time period. It would be best to refer to reliable news sources or official statements to get the most accurate and up-to-date information on this topic.\""
      ]
     },
     "execution_count": 13,
     "metadata": {},
     "output_type": "execute_result"
    }
   ],
   "source": [
    "from langchain.chat_models import ChatOpenAI\n",
    "llm = ChatOpenAI(model_name=\"gpt-3.5-turbo\", temperature=0)\n",
    "llm.predict(\"What did the president say about Justice Breyer\")"
   ]
  },
  {
   "cell_type": "markdown",
   "id": "fbd7a6cb",
   "metadata": {},
   "source": [
    "### Question Answering with Sources"
   ]
  },
  {
   "cell_type": "markdown",
   "id": "f349acb9",
   "metadata": {},
   "source": [
    "This section goes over how to do question-answering with sources over an Index. It does this by using the `RetrievalQAWithSourcesChain`, which does the lookup of the documents from an Index. "
   ]
  },
  {
   "cell_type": "code",
   "execution_count": 14,
   "id": "5e824f3b",
   "metadata": {},
   "outputs": [],
   "source": [
    "from langchain.chains import RetrievalQAWithSourcesChain\n",
    "from langchain.llms import OpenAI"
   ]
  },
  {
   "cell_type": "code",
   "execution_count": 15,
   "id": "61209cc3",
   "metadata": {},
   "outputs": [],
   "source": [
    "with open(\"../../modules/state_of_the_union.txt\") as f:\n",
    "    state_of_the_union = f.read()\n",
    "text_splitter = CharacterTextSplitter(chunk_size=1000, chunk_overlap=0)\n",
    "texts = text_splitter.split_text(state_of_the_union)"
   ]
  },
  {
   "cell_type": "code",
   "execution_count": 16,
   "id": "4abc3d37",
   "metadata": {},
   "outputs": [],
   "source": [
    "docsearch = Weaviate.from_texts(\n",
    "    texts,\n",
    "    embeddings,\n",
    "    weaviate_url=WEAVIATE_URL,\n",
    "    by_text=False,\n",
    "    metadatas=[{\"source\": f\"{i}-pl\"} for i in range(len(texts))],\n",
    ")"
   ]
  },
  {
   "cell_type": "code",
   "execution_count": 17,
   "id": "c7062393",
   "metadata": {},
   "outputs": [],
   "source": [
    "chain = RetrievalQAWithSourcesChain.from_chain_type(\n",
    "    OpenAI(temperature=0), chain_type=\"stuff\", retriever=docsearch.as_retriever()\n",
    ")"
   ]
  },
  {
   "cell_type": "code",
   "execution_count": 18,
   "id": "7e41b773",
   "metadata": {},
   "outputs": [
    {
     "data": {
      "text/plain": [
       "{'answer': \" The president honored Justice Breyer for his service and mentioned his legacy of excellence. He also nominated Circuit Court of Appeals Judge Ketanji Brown Jackson to continue Justice Breyer's legacy.\\n\",\n",
       " 'sources': '31-pl, 34-pl'}"
      ]
     },
     "execution_count": 18,
     "metadata": {},
     "output_type": "execute_result"
    }
   ],
   "source": [
    "chain(\n",
    "    {\"question\": \"What did the president say about Justice Breyer\"},\n",
    "    return_only_outputs=True,\n",
    ")"
   ]
  },
  {
   "cell_type": "markdown",
   "id": "05007f8a",
   "metadata": {},
   "source": [
    "### Retrieval-Augmented Generation"
   ]
  },
  {
   "cell_type": "code",
   "execution_count": 19,
   "id": "30f285a1",
   "metadata": {},
   "outputs": [],
   "source": [
    "with open(\"../../modules/state_of_the_union.txt\") as f:\n",
    "    state_of_the_union = f.read()\n",
    "text_splitter = CharacterTextSplitter(chunk_size=1000, chunk_overlap=0)\n",
    "texts = text_splitter.split_text(state_of_the_union)"
   ]
  },
  {
   "cell_type": "code",
   "execution_count": 20,
   "id": "08490f15",
   "metadata": {},
   "outputs": [],
   "source": [
    "docsearch = Weaviate.from_texts(\n",
    "    texts,\n",
    "    embeddings,\n",
    "    weaviate_url=WEAVIATE_URL,\n",
    "    by_text=False,\n",
    "    metadatas=[{\"source\": f\"{i}-pl\"} for i in range(len(texts))],\n",
    ")\n",
    "\n",
    "retriever = docsearch.as_retriever()"
   ]
  },
  {
   "cell_type": "code",
   "execution_count": 21,
   "id": "499cb1f5",
   "metadata": {},
   "outputs": [
    {
     "name": "stdout",
     "output_type": "stream",
     "text": [
      "input_variables=['context', 'question'] messages=[HumanMessagePromptTemplate(prompt=PromptTemplate(input_variables=['context', 'question'], template=\"You are an assistant for question-answering tasks. Use the following pieces of retrieved context to answer the question. If you don't know the answer, just say that you don't know. Use three sentences maximum and keep the answer concise.\\nQuestion: {question} \\nContext: {context} \\nAnswer:\\n\"))]\n"
     ]
    }
   ],
   "source": [
    "from langchain.prompts import ChatPromptTemplate\n",
    "\n",
    "template = \"\"\"You are an assistant for question-answering tasks. Use the following pieces of retrieved context to answer the question. If you don't know the answer, just say that you don't know. Use three sentences maximum and keep the answer concise.\n",
    "Question: {question} \n",
    "Context: {context} \n",
    "Answer:\n",
    "\"\"\"\n",
    "prompt = ChatPromptTemplate.from_template(template)\n",
    "\n",
    "print(prompt)"
   ]
  },
  {
   "cell_type": "code",
   "execution_count": 22,
   "id": "28d95686",
   "metadata": {},
   "outputs": [],
   "source": [
    "from langchain.chat_models import ChatOpenAI\n",
    "\n",
    "llm = ChatOpenAI(model_name=\"gpt-3.5-turbo\", temperature=0)"
   ]
  },
  {
   "cell_type": "code",
   "execution_count": 23,
   "id": "c697d0cd",
   "metadata": {},
   "outputs": [
    {
     "data": {
      "text/plain": [
       "'The president thanked Justice Breyer for his service and dedication to the country.'"
      ]
     },
     "execution_count": 23,
     "metadata": {},
     "output_type": "execute_result"
    }
   ],
   "source": [
    "from langchain.schema.runnable import RunnablePassthrough\n",
    "from langchain.schema.output_parser import StrOutputParser\n",
    "\n",
    "rag_chain = (\n",
    "    {\"context\": retriever,  \"question\": RunnablePassthrough()} \n",
    "    | prompt \n",
    "    | llm\n",
    "    | StrOutputParser() \n",
    ")\n",
    "\n",
    "rag_chain.invoke(\"What did the president say about Justice Breyer\")"
   ]
  }
 ],
 "metadata": {
  "kernelspec": {
   "display_name": "Python 3 (ipykernel)",
   "language": "python",
   "name": "python3"
  },
  "language_info": {
   "codemirror_mode": {
    "name": "ipython",
    "version": 3
   },
   "file_extension": ".py",
   "mimetype": "text/x-python",
   "name": "python",
   "nbconvert_exporter": "python",
   "pygments_lexer": "ipython3",
   "version": "3.11.4"
  }
 },
 "nbformat": 4,
 "nbformat_minor": 5
}
